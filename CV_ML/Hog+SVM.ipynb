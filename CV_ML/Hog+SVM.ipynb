{
 "cells": [
  {
   "cell_type": "code",
   "execution_count": null,
   "metadata": {},
   "outputs": [
    {
     "name": "stdout",
     "output_type": "stream",
     "text": [
      "(0.19288761757743814, array([[ 1.]]), array([[0]], dtype=int32))\n",
      "[ 0.]\n"
     ]
    }
   ],
   "source": [
    "import cv2\n",
    "import numpy as np\n",
    "import matplotlib.pyplot as plt\n",
    "# 1\n",
    "PosNum = 820\n",
    "NegNum = 1931\n",
    "winSize = (64,128)\n",
    "blockSize = (16,16) # 105 block\n",
    "blockStride = (8,8) # 4 cell\n",
    "cellSize = (8,8)\n",
    "nBin = 9\n",
    "\n",
    "# 2 HOGDescriptor（win,block,blockSize,cell,bin）\n",
    "hog = cv2.HOGDescriptor(winSize,blockSize,blockStride,cellSize,nBin)\n",
    "# 3 svm\n",
    "svm = cv2.ml.SVM_create()\n",
    "# 4 computer hog\n",
    "featureNum = int(((128-16)/8+1)*((64-16)/8+1)*4*9) # 3780\n",
    "featureArray = np.zeros(((PosNum+NegNum),featureNum),np.float32)\n",
    "labelArray = np.zeros(((PosNum+NegNum),1),np.int32)\n",
    "# 5 svm\n",
    "for i in range(PosNum):\n",
    "    fileName = 'pos\\\\'+str(i+1)+'.jpg'\n",
    "    img = cv2.imread(fileName)\n",
    "    hist = hog.compute(img,(8,8))\n",
    "    for j in range(0,featureNum):\n",
    "        featureArray[i,j] = hist[j]\n",
    "    labelArray[i,0] = 1 # 正样本\n",
    "\n",
    "for i in range(NegNum):\n",
    "    fileName = 'neg\\\\'+str(i+1)+'.jpg'\n",
    "    img = cv2.imread(fileName)\n",
    "    hist = hog.compute(img,(8,8))\n",
    "    for j in range(featureNum):\n",
    "        featureArray[i+PosNum,j] = hist[j]\n",
    "    labelArray[i+PosNum,0] = -1 # 负样本\n",
    "svm.setType(cv2.ml.SVM_C_SVC)\n",
    "svm.setKernel(cv2.ml.SVM_LINEAR)\n",
    "svm.setC(0.01)\n",
    "# 6 train\n",
    "ret = svm.train(featureArray,cv2.ml.ROW_SAMPLE,labelArray)\n",
    "# 7 检测 核心：create Hog -> myDectect -> array\n",
    "alpha = np.zeros((1),np.float32)\n",
    "rho = svm.getDecisionFunction(0,alpha)\n",
    "print(rho)\n",
    "print(alpha)\n",
    "alphaArray = np.zeros((1,1),np.float32)\n",
    "supportVArray = np.zeros((1,featureNum),np.float32)\n",
    "resultArray = np.zeros((1,featureNum),np.float32)\n",
    "alphaArray[0,0] = alpha\n",
    "resultArray = -1 * alphaArray*supportVArray\n",
    "# detect\n",
    "myDetect = np.zeros((3781),np.float32)\n",
    "for i in range(3780):\n",
    "    myDetect[i] = resultArray[0,i]\n",
    "myDetect[3780] = rho[0]\n",
    "# 构建hog\n",
    "myHog = cv2.HOGDescriptor()\n",
    "myHog.setSVMDetector(myDetect)\n",
    "# load\n",
    "imageSrc = cv2.imread('Test2.jpg', 1)\n",
    "objs = myHog.detectMultiScale(imageSrc,0,(8,8),(32,32),1.05,2)\n",
    "# 起始位置 x,y 宽度和高度 w,h\n",
    "x = int(objs[0][0][0])\n",
    "y = int(objs[0][0][1])\n",
    "w = int(objs[0][0][2])\n",
    "h = int(objs[0][0][3])\n",
    "# 绘制展示\n",
    "cv2.rectangle(imageSrc,(x,y),(x+w,y+h),(255,0,0),2)\n",
    "cv2.imshow('dst',imageSrc)\n",
    "cv2.waitKey(0)"
   ]
  },
  {
   "cell_type": "code",
   "execution_count": null,
   "metadata": {},
   "outputs": [],
   "source": []
  }
 ],
 "metadata": {
  "kernelspec": {
   "display_name": "Python 3",
   "language": "python",
   "name": "python3"
  },
  "language_info": {
   "codemirror_mode": {
    "name": "ipython",
    "version": 3
   },
   "file_extension": ".py",
   "mimetype": "text/x-python",
   "name": "python",
   "nbconvert_exporter": "python",
   "pygments_lexer": "ipython3",
   "version": "3.6.2"
  }
 },
 "nbformat": 4,
 "nbformat_minor": 2
}
