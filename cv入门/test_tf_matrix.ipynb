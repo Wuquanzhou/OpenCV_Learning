{
 "cells": [
  {
   "cell_type": "code",
   "execution_count": 3,
   "metadata": {},
   "outputs": [
    {
     "name": "stdout",
     "output_type": "stream",
     "text": [
      "8.0\n",
      "end!\n"
     ]
    }
   ],
   "source": [
    "import tensorflow as tf\n",
    "# 无需事先声明具体值，数值在运算过程中实时给出\n",
    "data1 = tf.placeholder(tf.float32)\n",
    "data2 = tf.placeholder(tf.float32)\n",
    "dataAdd = tf.add(data1, data2)\n",
    "with tf.Session() as sess:\n",
    "    print(sess.run(dataAdd, feed_dict={data1:6, data2:2}))\n",
    "    # 1 dataAdd 2 data (feed_dict = {first parameter:value1, second parameter:value2})\n",
    "print('end!')"
   ]
  },
  {
   "cell_type": "code",
   "execution_count": 9,
   "metadata": {},
   "outputs": [
    {
     "name": "stdout",
     "output_type": "stream",
     "text": [
      "(3, 2)\n",
      "[[1 2]\n",
      " [3 4]\n",
      " [5 6]]\n",
      "[1 2]\n",
      "[1 3 5]\n",
      "1\n"
     ]
    }
   ],
   "source": [
    "# 矩阵初始化 [] , []内部：一个[]代表一行（以,分隔），[]里的数据代表列（以,分隔）\n",
    "import tensorflow as tf\n",
    "data1 = tf.constant([[6,6]])\n",
    "data2 = tf.constant([[2],\n",
    "                     [2]])\n",
    "data3 = tf.constant([[1,2],\n",
    "                     [3,4],\n",
    "                     [5,6]])\n",
    "print(data3.shape) # 维度\n",
    "with tf.Session() as sess:\n",
    "    print(sess.run(data3)) # 打印整体\n",
    "    print(sess.run(data3[0])) # 打印某一行（下标从0开始）\n",
    "    print(sess.run(data3[:,0])) # 打印某一列（下标从0开始）\n",
    "    print(sess.run(data3[0,0])) # 打印某一行某一列对应的元素（下标从0开始）"
   ]
  },
  {
   "cell_type": "code",
   "execution_count": 12,
   "metadata": {},
   "outputs": [
    {
     "name": "stdout",
     "output_type": "stream",
     "text": [
      "[[0]\n",
      " [0]\n",
      " [0]]\n",
      "[ 0.          0.2         0.40000001  0.60000002  0.80000001  1.\n",
      "  1.20000005  1.39999998  1.60000002  1.80000007  2.        ]\n",
      "[[-0.43213201  0.57048202 -0.73817778]\n",
      " [ 0.29105163 -0.2347579   0.14339852]]\n"
     ]
    }
   ],
   "source": [
    "import tensorflow as tf\n",
    "mat1 = tf.constant([[2],\n",
    "                    [3],\n",
    "                    [4]])\n",
    "mat2 = tf.zeros_like(mat1) # 产生一个与mat1同维度的全是0的矩阵\n",
    "mat3 = tf.linspace(0.0, 2.0, 11) # 在0.0-2.0之间生成等间隔的11个数据\n",
    "mat4 = tf.random_uniform([2,3], -1, 2) # 产生一个(2,3)的矩阵，每个元素在-1-2之间随机取值\n",
    "with tf.Session() as sess:\n",
    "    print(sess.run(mat2))\n",
    "    print(sess.run(mat3))\n",
    "    print(sess.run(mat4))"
   ]
  },
  {
   "cell_type": "code",
   "execution_count": null,
   "metadata": {},
   "outputs": [],
   "source": []
  }
 ],
 "metadata": {
  "kernelspec": {
   "display_name": "Python 3",
   "language": "python",
   "name": "python3"
  },
  "language_info": {
   "codemirror_mode": {
    "name": "ipython",
    "version": 3
   },
   "file_extension": ".py",
   "mimetype": "text/x-python",
   "name": "python",
   "nbconvert_exporter": "python",
   "pygments_lexer": "ipython3",
   "version": "3.6.2"
  }
 },
 "nbformat": 4,
 "nbformat_minor": 2
}
