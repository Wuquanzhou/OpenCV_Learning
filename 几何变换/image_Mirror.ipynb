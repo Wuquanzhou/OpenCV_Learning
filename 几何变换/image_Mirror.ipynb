{
 "cells": [
  {
   "cell_type": "code",
   "execution_count": null,
   "metadata": {},
   "outputs": [],
   "source": [
    "import cv2\n",
    "import numpy as np\n",
    "img = cv2.imread('image0.jpg', 1)\n",
    "cv2.imshow('src', img)\n",
    "imgInfo = img.shape # (height, width)\n",
    "height = imgInfo[0]\n",
    "width = imgInfo[1]\n",
    "deep = imgInfo[2]\n",
    "newImgInfo = (height*2, width, deep)\n",
    "dst = np.zeros(newImgInfo, np.uint8)\n",
    "for i in range(height):\n",
    "    for j in range(width):\n",
    "        dst[i,j] = img[i,j]\n",
    "        dst[height*2 - i - 1, j] = img[i,j]\n",
    "for i in range(width):\n",
    "    dst[height,i] = (0,0,255) # bgr\n",
    "cv2.imshow('dst', dst)\n",
    "cv2.waitKey(0)"
   ]
  },
  {
   "cell_type": "code",
   "execution_count": null,
   "metadata": {},
   "outputs": [],
   "source": []
  }
 ],
 "metadata": {
  "kernelspec": {
   "display_name": "Python 3",
   "language": "python",
   "name": "python3"
  },
  "language_info": {
   "codemirror_mode": {
    "name": "ipython",
    "version": 3
   },
   "file_extension": ".py",
   "mimetype": "text/x-python",
   "name": "python",
   "nbconvert_exporter": "python",
   "pygments_lexer": "ipython3",
   "version": "3.6.2"
  }
 },
 "nbformat": 4,
 "nbformat_minor": 2
}
