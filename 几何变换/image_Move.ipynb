{
 "cells": [
  {
   "cell_type": "code",
   "execution_count": null,
   "metadata": {},
   "outputs": [],
   "source": [
    "import cv2\n",
    "import numpy as np\n",
    "img = cv2.imread('image0.jpg', 1)\n",
    "cv2.imshow('src', img)\n",
    "imgInfo = img.shape # (height, width)\n",
    "height = imgInfo[0]\n",
    "width = imgInfo[1]\n",
    "####\n",
    "# [1, 0, 100], [0, 1, 200]\n",
    "# [[1,0],[0,1]]  2*2  A\n",
    "# [[100],[200]]  2*1  B\n",
    "# xy C\n",
    "# A*C+B = [[1*x+0*y],[0*x+1*y]] + [[100],[200]] = [[x+100],[y+200]]\n",
    "# (10,20) -> (110,120)\n",
    "'''\n",
    "左右移动，改变列信息，修改矩阵width值\n",
    "上下移动，改变行信息，修改矩阵height值\n",
    "'''\n",
    "matShift = np.float32([[1, 0, 100], [0, 1, 200]])\n",
    "dst = cv2.warpAffine(img, matShift, (height, width)) # 1 src data 2 matShift 3 matrix info\n",
    "# 移位本质 ：矩阵运算 \n",
    "cv2.imshow('dst', dst)\n",
    "cv2.waitKey(0)"
   ]
  },
  {
   "cell_type": "code",
   "execution_count": null,
   "metadata": {},
   "outputs": [],
   "source": []
  }
 ],
 "metadata": {
  "kernelspec": {
   "display_name": "Python 3",
   "language": "python",
   "name": "python3"
  },
  "language_info": {
   "codemirror_mode": {
    "name": "ipython",
    "version": 3
   },
   "file_extension": ".py",
   "mimetype": "text/x-python",
   "name": "python",
   "nbconvert_exporter": "python",
   "pygments_lexer": "ipython3",
   "version": "3.6.2"
  }
 },
 "nbformat": 4,
 "nbformat_minor": 2
}
