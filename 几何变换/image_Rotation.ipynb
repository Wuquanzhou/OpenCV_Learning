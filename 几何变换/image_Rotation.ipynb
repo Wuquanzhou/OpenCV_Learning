{
 "cells": [
  {
   "cell_type": "code",
   "execution_count": null,
   "metadata": {},
   "outputs": [],
   "source": [
    "import cv2\n",
    "import numpy as np\n",
    "img = cv2.imread('image0.jpg', 1)\n",
    "cv2.imshow('src', img)\n",
    "imgInfo = img.shape # (height, width)\n",
    "height = imgInfo[0]\n",
    "width = imgInfo[1]\n",
    "# mat rotate 1 image center 2 rotate angle(角度) 3 缩放系数（避免旋转后四个角超出原矩阵范围）\n",
    "matRotate = cv2.getRotationMatrix2D((height*0.5,width*0.5),45,0.5) \n",
    "dst = cv2.warpAffine(img,matRotate,(height,width))\n",
    "cv2.imshow('dst',dst)\n",
    "cv2.waitKey(0)"
   ]
  },
  {
   "cell_type": "code",
   "execution_count": null,
   "metadata": {},
   "outputs": [],
   "source": []
  }
 ],
 "metadata": {
  "kernelspec": {
   "display_name": "Python 3",
   "language": "python",
   "name": "python3"
  },
  "language_info": {
   "codemirror_mode": {
    "name": "ipython",
    "version": 3
   },
   "file_extension": ".py",
   "mimetype": "text/x-python",
   "name": "python",
   "nbconvert_exporter": "python",
   "pygments_lexer": "ipython3",
   "version": "3.6.2"
  }
 },
 "nbformat": 4,
 "nbformat_minor": 2
}
