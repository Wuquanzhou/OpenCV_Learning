{
 "cells": [
  {
   "cell_type": "code",
   "execution_count": null,
   "metadata": {},
   "outputs": [
    {
     "name": "stdout",
     "output_type": "stream",
     "text": [
      "(547, 730, 3)\n"
     ]
    }
   ],
   "source": [
    "# 1 load 2 info 3 resize 4 check\n",
    "import cv2\n",
    "img = cv2.imread('image0.jpg', 1)\n",
    "imgInfo = img.shape\n",
    "print(imgInfo) # 高 宽 通道（bgr）\n",
    "height = imgInfo[0]\n",
    "width = imgInfo[1]\n",
    "mode = imgInfo[2]\n",
    "'''\n",
    "利用图片位移公式实现图片缩放\n",
    "# [[A1 A2 B1],[A3 A4 B2]]\n",
    "# [[A1 A2],[A3 A4]]  [[B1],[B2]]\n",
    "# newX = A1*x + A2*y+B1\n",
    "# newY = A3*x +A4*y+B2\n",
    "# x->x*0.5 y->y*0.5\n",
    "# newX = 0.5*x\n",
    "matScale = np.float32([[0.5,0,0],[0,0.5,0]])\n",
    "dst = cv2.warpAffine(img,matScale,(int(width/2),int(height/2)))\n",
    "'''\n",
    "# 1 放大 缩小 2 等比例 or 非等比例\n",
    "dstHeight = int(height*0.5)\n",
    "dstWidth = int(width*0.5)\n",
    "# 最近邻域差值 双线性插值（resize） 像素关系重采样 立方插值\n",
    "dst = cv2.resize(img, (dstWidth, dstHeight))\n",
    "cv2.imshow('image', dst)\n",
    "cv2.waitKey(0)"
   ]
  },
  {
   "cell_type": "code",
   "execution_count": null,
   "metadata": {},
   "outputs": [],
   "source": []
  }
 ],
 "metadata": {
  "kernelspec": {
   "display_name": "Python 3",
   "language": "python",
   "name": "python3"
  },
  "language_info": {
   "codemirror_mode": {
    "name": "ipython",
    "version": 3
   },
   "file_extension": ".py",
   "mimetype": "text/x-python",
   "name": "python",
   "nbconvert_exporter": "python",
   "pygments_lexer": "ipython3",
   "version": "3.6.2"
  }
 },
 "nbformat": 4,
 "nbformat_minor": 2
}
