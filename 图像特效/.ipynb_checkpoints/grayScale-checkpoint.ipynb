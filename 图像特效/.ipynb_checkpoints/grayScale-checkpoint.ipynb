{
 "cells": [
  {
   "cell_type": "code",
   "execution_count": null,
   "metadata": {},
   "outputs": [
    {
     "name": "stdout",
     "output_type": "stream",
     "text": [
      "(547, 730)\n",
      "(547, 730, 3)\n"
     ]
    }
   ],
   "source": [
    "# 方法1 imread\n",
    "import cv2\n",
    "img0 = cv2.imread('image0.jpg', 0)\n",
    "img1 = cv2.imread('image0.jpg', 1)\n",
    "print(img0.shape)\n",
    "print(img1.shape)\n",
    "cv2.imshow('src', img0)\n",
    "cv2.waitKey(0)"
   ]
  },
  {
   "cell_type": "code",
   "execution_count": null,
   "metadata": {},
   "outputs": [],
   "source": [
    "# 方法2 cv2.cvtColor(img, cv2.COLOR_BGR2GRAY)\n",
    "import cv2\n",
    "img = cv2.imread('image0.jpg', 1)\n",
    "dst = cv2.cvtColor(img, cv2.COLOR_BGR2GRAY) #颜色空间转换 1 data 2 bgt -> gray\n",
    "cv2.imshow('dst', dst)\n",
    "cv2.waitKey(0)"
   ]
  },
  {
   "cell_type": "code",
   "execution_count": null,
   "metadata": {},
   "outputs": [],
   "source": [
    "# 方法3 gray = (int(b)+int(g)+int(r))/3\n",
    "# 方法4 gray = r*0.299 + g*0.287 + b*0.114\n",
    "import cv2\n",
    "import numpy as np\n",
    "img = cv2.imread('image0.jpg', 1)\n",
    "imgInfo = img.shape\n",
    "height = imgInfo[0]\n",
    "width = imgInfo[1]\n",
    "(b,g,r) = img[2,1]\n",
    "# print(b)\n",
    "# print(type(b))\n",
    "# print(int(b))\n",
    "# print(type(int(b)))\n",
    "dst = np.zeros((height,width),np.uint8)\n",
    "for i in range(height):\n",
    "    for j in range(width):\n",
    "        (b,g,r) = img[i,j]\n",
    "        gray = (int(b)+int(g)+int(r))/3\n",
    "#         gray = r*0.299 + g*0.287 + b*0.114\n",
    "        dst[i,j] = np.uint8(gray)\n",
    "cv2.imshow('dst', dst)\n",
    "cv2.waitKey(0)"
   ]
  },
  {
   "cell_type": "code",
   "execution_count": null,
   "metadata": {},
   "outputs": [],
   "source": [
    "# 算法优化（注重实时性）\n",
    "# 考虑运算速度：定点运算 > 浮点运算；+- > */；>> > */（利用2进制，*2 => <<1,/4 => >>2）\n",
    "# r*0.299 + g*0.287 + b*0.114\n",
    "import cv2\n",
    "import numpy as np\n",
    "img = cv2.imread('image0.jpg', 1)\n",
    "imgInfo = img.shape\n",
    "height = imgInfo[0]\n",
    "width = imgInfo[1]\n",
    "# (b,g,r) = img[2,1]\n",
    "# print(b)\n",
    "# print(type(b))\n",
    "# print(int(b))\n",
    "# print(type(int(b)))\n",
    "dst = np.zeros((height,width),np.uint8)\n",
    "for i in range(height):\n",
    "    for j in range(width):\n",
    "        (b,g,r) = img[i,j]\n",
    "        b = int(b)\n",
    "        g = int(g)\n",
    "        r = int(r)\n",
    "#         gray = (r*1 + g*2 + b*1)/4 # 原式先乘4再除以4，将浮点转成定点，为了提高精度，*/因子可适当调高\n",
    "        gray = (r + (g<<2) + b)>>2\n",
    "        dst[i,j] = np.uint8(gray)\n",
    "cv2.imshow('dst', dst)\n",
    "cv2.waitKey(0)"
   ]
  },
  {
   "cell_type": "code",
   "execution_count": null,
   "metadata": {},
   "outputs": [],
   "source": []
  }
 ],
 "metadata": {
  "kernelspec": {
   "display_name": "Python 3",
   "language": "python",
   "name": "python3"
  },
  "language_info": {
   "codemirror_mode": {
    "name": "ipython",
    "version": 3
   },
   "file_extension": ".py",
   "mimetype": "text/x-python",
   "name": "python",
   "nbconvert_exporter": "python",
   "pygments_lexer": "ipython3",
   "version": "3.6.2"
  }
 },
 "nbformat": 4,
 "nbformat_minor": 2
}
